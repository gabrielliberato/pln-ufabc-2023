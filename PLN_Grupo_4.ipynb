{
  "nbformat": 4,
  "nbformat_minor": 0,
  "metadata": {
    "colab": {
      "provenance": [],
      "collapsed_sections": [
        "6yExhaebs-nD",
        "eD_AJQhrwJQ6",
        "gWsBYQNtxmum"
      ],
      "include_colab_link": true
    },
    "kernelspec": {
      "name": "python3",
      "display_name": "Python 3"
    }
  },
  "cells": [
    {
      "cell_type": "markdown",
      "metadata": {
        "id": "view-in-github",
        "colab_type": "text"
      },
      "source": [
        "<a href=\"https://colab.research.google.com/github/gabrielliberato/pln-ufabc-2023/blob/main/PLN_Grupo_4.ipynb\" target=\"_parent\"><img src=\"https://colab.research.google.com/assets/colab-badge.svg\" alt=\"Open In Colab\"/></a>"
      ]
    },
    {
      "cell_type": "markdown",
      "metadata": {
        "id": "Y6QILOdpOjwv"
      },
      "source": [
        "# **Processamento de Linguagem Natural [2023.Q3]**\n",
        "Prof. Alexandre Donizeti Alves"
      ]
    },
    {
      "cell_type": "markdown",
      "metadata": {
        "id": "8m67OOx9MX_3"
      },
      "source": [
        "### **ATIVIDADE PRÁTICA 02 [Extração e Pré-processamento de Dados + Expressões Regulares]**\n"
      ]
    },
    {
      "cell_type": "markdown",
      "metadata": {
        "id": "5Gk0nHKabBT-"
      },
      "source": [
        "A **ATIVIDADE PRÁTICA 02** deve ser feita utilizando o **Google Colab** com uma conta\n",
        "sua vinculada ao Gmail. O link do seu notebook, armazenado no Google Drive, além do link de um repositório no GitHub e os principais resultados da atividade, devem ser enviados usando o seguinte formulário:\n",
        "\n",
        "> https://forms.gle/83JggUJ1mhgWviEaA\n",
        "\n",
        "\n",
        "**IMPORTANTE**: A submissão deve ser feita até o dia 16/10 (segunda-feira) APENAS POR UM INTEGRANTE DA EQUIPE, até às 23h59. Por favor, lembre-se de dar permissão de ACESSO IRRESTRITO para o professor da disciplina de PLN."
      ]
    },
    {
      "cell_type": "markdown",
      "metadata": {
        "id": "D7hJlilKM485"
      },
      "source": [
        "### **EQUIPE**\n",
        "\n",
        "---"
      ]
    },
    {
      "cell_type": "markdown",
      "source": [
        "**POR FAVOR, PREENCHER OS INTEGRANDES DA SUA EQUIPE:**\n",
        "\n",
        "\n",
        "**Integrante 01:**\n",
        "\n",
        "Gabriel Martins Liberato - 11202020921"
      ],
      "metadata": {
        "id": "tnIArN0QY-Ek"
      }
    },
    {
      "cell_type": "markdown",
      "source": [
        "### **LIVRO**\n",
        "---"
      ],
      "metadata": {
        "id": "6yExhaebs-nD"
      }
    },
    {
      "cell_type": "markdown",
      "source": [
        "`Processamento de Linguagem Natural - Conceitos, Técnicas e Aplicações em Português.`\n",
        "\n",
        ">\n",
        "\n",
        "Disponível gratuitamente em:\n",
        "  \n",
        "  > https://brasileiraspln.com/livro-pln/1a-edicao/.\n",
        "\n",
        "\n",
        "**POR FAVOR, PREENCHER OS CAPITULOS SELECIONADOS PARA A SUA EQUIPE:**\n",
        "\n",
        "`Primeiro capítulo: ` https://brasileiraspln.com/livro-pln/1a-edicao/parte3/cap4/cap4.html\n",
        "\n",
        "`Segundo capítulo:` https://brasileiraspln.com/livro-pln/1a-edicao/parte9/cap22/cap22.html\n",
        "\n"
      ],
      "metadata": {
        "id": "DjJM_qhEZRy6"
      }
    },
    {
      "cell_type": "markdown",
      "metadata": {
        "id": "EtjgWQRzNphL"
      },
      "source": [
        "### **DESCRIÇÃO**\n",
        "---"
      ]
    },
    {
      "cell_type": "markdown",
      "source": [
        "Implementar um `notebook` no `Google Colab` para identificar ERROS em 2 (DOIS) capítulos do livro **Processamento de Linguagem Natural - Conceitos, Técnicas e Aplicações em Português**.\n",
        "\n",
        "Os capítulos devem ser selecionados na seguinte planilha:\n",
        "\n",
        "https://docs.google.com/spreadsheets/d/1ZutzQ3v1OJgsgzCvCwxXlRIQ3ChXNlHNvB63JQvYsbo/edit?usp=sharing\n",
        "\n",
        ">\n",
        "\n",
        "**IMPORTANTE:** É obrigatório usar o e-mail da UFABC.\n",
        "\n",
        ">\n",
        "\n",
        "\n",
        "**DICA:** Por favor, insira o seu nome ou da sua equipe na ordem definida na planilha. Por exemplo, se a linha correspondente ao o GRUPO 5 já foi preenchida, a próxima equipe (GRUPO 6) deverá ser informada na próxima linha da planilha.\n",
        "\n"
      ],
      "metadata": {
        "id": "fXTwkiiGs2BV"
      }
    },
    {
      "cell_type": "markdown",
      "source": [
        "### **TIPOS DE ERROS**\n",
        "---\n"
      ],
      "metadata": {
        "id": "eD_AJQhrwJQ6"
      }
    },
    {
      "cell_type": "markdown",
      "source": [
        "**IMPORTANTE**: consulta feita no ChatGPT\n",
        ">\n",
        "\n",
        "Um `programa Python` que utilize `expressões regulares` pode ajudar a identificar vários **tipos de erros** comuns em **livros**, especialmente erros de formatação e problemas relacionados à consistência do texto. Aqui estão alguns exemplos de erros comuns que podem ser identificados usando expressões regulares:\n",
        "\n",
        "* Erros de gramática e ortografia: erros de digitação, concordância verbal e nominal, uso incorreto de pontuação e outros erros gramaticais.\n",
        "\n",
        "* Problemas de formatação: você pode usar expressões regulares para encontrar erros de formatação, como espaços em excesso, tabulações inadequadas ou alinhamentos inconsistentes.\n",
        "\n",
        "* Abreviações e acrônimos: você pode usar expressões regulares para encontrar abreviações ou acrônimos que não foram definidos ou explicados anteriormente no texto.\n",
        "\n",
        "* Citações e referências: expressões regulares podem ser úteis para localizar citações ou referências que precisam de formatação especial.\n",
        "\n",
        "* OUTROS TIPOS DE ERROS: não considerem apenas os tipos de erros citados acima.\n",
        "\n",
        "\n",
        "**IMPORTANTE:** Lembre-se de que expressões regulares podem ser poderosas, mas também complexas. Dependendo da complexidade dos erros que você deseja identificar, pode ser necessário ajustar as expressões regulares de acordo com as características específicas do seu texto. Além disso, é importante ter em mente que as expressões regulares podem não ser a melhor ferramenta para todos os tipos de erros em livros, especialmente problemas mais contextuais ou semânticos, que podem exigir abordagens de PLN mais avançadas.\n",
        "\n",
        "\n",
        "\n"
      ],
      "metadata": {
        "id": "gz0DTI0KYmn6"
      }
    },
    {
      "cell_type": "markdown",
      "source": [
        "### **CRITÉRIOS DE AVALIAÇÃO**\n",
        "---\n"
      ],
      "metadata": {
        "id": "gWsBYQNtxmum"
      }
    },
    {
      "cell_type": "markdown",
      "source": [
        "A equipe que **realizar mais testes** e/ou **identificar mais erros** terá o peso diminuido na AVALIAÇÃO (Prova Escrita) em **25%** (caindo de 40 para 30). Os testes e possíveis erros devem ser contabizados de maneira separada.\n",
        "\n",
        ">\n",
        "\n",
        "Além disso, **por se tratar de um livro**, há um teste importante que deve ser feito. Lembre-se que o teste deve ser feito utilizando expressões regulares. A equipe que realizar esse teste, mesmo que o erro não ocorra nos capítulos selecionados, terá o peso diminuido na AVALIAÇÃO (Prova Escrita) em **25%** (caindo de 40 para 30).\n",
        "\n",
        "> A equipe pode considerar outros capítulos do livro para tentar identificar esse tipo de erro.\n",
        "\n",
        "**Se for a mesma equipe, o peso da avaliação será reduzido em 50% (caindo de 40 para 20)**.\n",
        "\n",
        ">\n",
        "\n",
        "**IMPORTANTE**: a diminuição no peso da AVALIAÇÃO será aplicado para todos os membros da equipe. Esse critério será aplicado apenas para uma equipe, considerando como critério de desempate a equipe que entregar primeiro a atividade no formulário.\n",
        "\n",
        "\n",
        "\n"
      ],
      "metadata": {
        "id": "5iHdx4BXYruQ"
      }
    },
    {
      "cell_type": "markdown",
      "source": [
        "### **IMPLEMENTAÇÃO**\n",
        "---"
      ],
      "metadata": {
        "id": "nw09lujGvfjc"
      }
    },
    {
      "cell_type": "code",
      "source": [
        "import requests\n",
        "from bs4 import BeautifulSoup as bs"
      ],
      "metadata": {
        "id": "RyUailD5vi9E"
      },
      "execution_count": 1,
      "outputs": []
    },
    {
      "cell_type": "code",
      "source": [
        "urls = [\"https://brasileiraspln.com/livro-pln/1a-edicao/parte3/cap4/cap4.html\", \"https://brasileiraspln.com/livro-pln/1a-edicao/parte9/cap22/cap22.html\"]\n",
        "# Faz uma solicitação GET\n",
        "responses = []\n",
        "for url in urls:\n",
        "  responses.append(requests.get(url))\n",
        "\n",
        "# # Verifica se a solicitação foi bem-sucedida\n",
        "# if response.status_code == 200:\n",
        "#   print('Conexão bem-sucedida')"
      ],
      "metadata": {
        "id": "Qg2lzK-i5M-6"
      },
      "execution_count": 2,
      "outputs": []
    },
    {
      "cell_type": "code",
      "source": [
        "capitulos = []"
      ],
      "metadata": {
        "id": "8M94pvjqxAg9"
      },
      "execution_count": 3,
      "outputs": []
    },
    {
      "cell_type": "code",
      "source": [
        "for response in responses:\n",
        "  soup = bs(response.content, 'html.parser')\n",
        "  conteudo = soup.find('main', {'id': 'quarto-document-content'})\n",
        "  paragrafos = conteudo.find_all('p', recursive=True)\n",
        "\n",
        "  capitulo = ''\n",
        "  for par in paragrafos:\n",
        "    capitulo += par.get_text()\n",
        "  capitulos.append(capitulo)"
      ],
      "metadata": {
        "id": "SfpEIxPB5bzJ"
      },
      "execution_count": 4,
      "outputs": []
    },
    {
      "cell_type": "code",
      "source": [
        "registro_erros = {cap.split('/')[-1].split('.')[0]: 0 for cap in urls}"
      ],
      "metadata": {
        "id": "2pUL3vhKx8BS"
      },
      "execution_count": 5,
      "outputs": []
    },
    {
      "cell_type": "code",
      "source": [
        "def conta_erros(expressao_erro, capitulo, pos):\n",
        "  print(expressao_erro.findall(capitulo))\n",
        "  qtd = len(expressao_erro.findall(capitulo))\n",
        "  registro_erros[urls[pos].split('/')[-1].split('.')[0]] += qtd"
      ],
      "metadata": {
        "id": "qafqq1a_xY6w"
      },
      "execution_count": 6,
      "outputs": []
    },
    {
      "cell_type": "code",
      "source": [
        "import re"
      ],
      "metadata": {
        "id": "r73uJwpq7rYw"
      },
      "execution_count": 7,
      "outputs": []
    },
    {
      "cell_type": "code",
      "source": [
        "erro = re.compile(r'\\bh[^i]fens', re.IGNORECASE) # o plural de \"hífen\" é \"hifens\", não \"hífens\", como presente no texto.\n",
        "\n",
        "for pos, cap in enumerate(capitulos):\n",
        "  conta_erros(erro, cap, pos)"
      ],
      "metadata": {
        "colab": {
          "base_uri": "https://localhost:8080/"
        },
        "id": "UXWfq8Hp9NR7",
        "outputId": "66063a90-7187-4938-d6b6-af4abcf162ee"
      },
      "execution_count": 8,
      "outputs": [
        {
          "output_type": "stream",
          "name": "stdout",
          "text": [
            "['hífens']\n",
            "[]\n"
          ]
        }
      ]
    },
    {
      "cell_type": "code",
      "source": [
        "erro = re.compile(r'\\bcri[ar|amos|am|ei|ado|ando]+\\snov[o|a|os|as]+', re.IGNORECASE) # pleonasmo: tudo o que é criado é novo\n",
        "for pos, cap in enumerate(capitulos):\n",
        "  conta_erros(erro, cap, pos)"
      ],
      "metadata": {
        "colab": {
          "base_uri": "https://localhost:8080/"
        },
        "id": "vECr1ZOv-aZl",
        "outputId": "d9dac00b-6b42-4b10-df90-d0c3b06a6bfa"
      },
      "execution_count": 9,
      "outputs": [
        {
          "output_type": "stream",
          "name": "stdout",
          "text": [
            "['criam novas', 'cria novas', 'criar novas']\n",
            "[]\n"
          ]
        }
      ]
    },
    {
      "cell_type": "code",
      "source": [
        "registro_erros"
      ],
      "metadata": {
        "colab": {
          "base_uri": "https://localhost:8080/"
        },
        "id": "eUsqSOAHzJS3",
        "outputId": "4b16acd0-0b90-44e8-d9a1-776150d25f00"
      },
      "execution_count": 10,
      "outputs": [
        {
          "output_type": "execute_result",
          "data": {
            "text/plain": [
              "{'cap4': 4, 'cap22': 0}"
            ]
          },
          "metadata": {},
          "execution_count": 10
        }
      ]
    },
    {
      "cell_type": "code",
      "source": [
        "erro = re.compile(r'[\\s\\w]+\\b(?:pré|pós|pró)+\\s[\\s\\wóéçaã]{1,}.', re.IGNORECASE) # pré (assim como pró e pós) sempre é seguido por hífen\n",
        "for pos, cap in enumerate(capitulos):\n",
        "  conta_erros(erro, cap, pos)"
      ],
      "metadata": {
        "colab": {
          "base_uri": "https://localhost:8080/"
        },
        "id": "IC436ZHsGkaa",
        "outputId": "07812b02-d7c2-4225-be86-1f02852d1b6f"
      },
      "execution_count": 11,
      "outputs": [
        {
          "output_type": "stream",
          "name": "stdout",
          "text": [
            "['A tarefa de conversão de abreviações é usualmente baseada em listas pré definidas de abreviações comuns que podem ser utilizadas em um processo de busca e substituição.']\n",
            "[]\n"
          ]
        }
      ]
    },
    {
      "cell_type": "code",
      "source": [
        "erro = re.compile(r'para mim\\s\\b\\w+(?:ar|er|ir)\\b', re.IGNORECASE) # \"mim\" não conjuga verbo; o correto sempre é \"eu\" + verbo\n",
        "for pos, cap in enumerate(capitulos):\n",
        "  conta_erros(erro, cap, pos)"
      ],
      "metadata": {
        "id": "ByzQ9UPtKmCw",
        "colab": {
          "base_uri": "https://localhost:8080/"
        },
        "outputId": "d575dbd6-e56e-4cb7-9087-1eee9d2cf108"
      },
      "execution_count": 12,
      "outputs": [
        {
          "output_type": "stream",
          "name": "stdout",
          "text": [
            "[]\n",
            "[]\n"
          ]
        }
      ]
    },
    {
      "cell_type": "code",
      "source": [
        "erro = re.compile(r'[\\w\\s]*todas as demais[\\s\\w]+\\.', re.IGNORECASE) # \"todas/os as/os demais\" são pleonasmos; se são as demais, são todas\n",
        "for pos, cap in enumerate(capitulos):\n",
        "  conta_erros(erro, cap, pos)"
      ],
      "metadata": {
        "colab": {
          "base_uri": "https://localhost:8080/"
        },
        "id": "kRYzedgdFW-O",
        "outputId": "dcb95b66-6f49-440c-b68d-b71d0d3c7e1e"
      },
      "execution_count": 13,
      "outputs": [
        {
          "output_type": "stream",
          "name": "stdout",
          "text": [
            "[' e todas as demais flexões do verbo.']\n",
            "[]\n"
          ]
        }
      ]
    },
    {
      "cell_type": "code",
      "source": [
        "erro = re.compile(r'[\\s\\w]*(?<!,)por exemplo(?!,)[,\\s\\w]*', re.IGNORECASE) # a expressão \"por exemplo\" que não possui, necessariamente, vírgula antes e depois\n",
        "for pos, cap in enumerate(capitulos):\n",
        "  conta_erros(erro, cap, pos)"
      ],
      "metadata": {
        "colab": {
          "base_uri": "https://localhost:8080/"
        },
        "id": "IF9_-UndHwZL",
        "outputId": "717d1012-cd71-4c27-c741-5645c6a87f91"
      },
      "execution_count": 14,
      "outputs": [
        {
          "output_type": "stream",
          "name": "stdout",
          "text": [
            "[' como por exemplo dividir as conjunções em conjunções coordenativas e conjunções subordinativas, ou ainda verbos em verbos auxiliares e verbos plenos', ' por exemplo']\n",
            "[' por exemplo ']\n"
          ]
        }
      ]
    },
    {
      "cell_type": "code",
      "source": [
        "erro = re.compile(r'(?:porém|contudo|entretanto|todavia|em contrapartida)+\\s', re.IGNORECASE) # conjunções coordenativas adversativas são sempre seguidas de vírgula\n",
        "for pos, cap in enumerate(capitulos):\n",
        "  conta_erros(erro, cap, pos)"
      ],
      "metadata": {
        "colab": {
          "base_uri": "https://localhost:8080/"
        },
        "id": "ucrsprfJOr4Q",
        "outputId": "79c2d79d-478c-420b-ea2b-b2b38a51bf46"
      },
      "execution_count": 15,
      "outputs": [
        {
          "output_type": "stream",
          "name": "stdout",
          "text": [
            "['porém ', 'Em contrapartida ', 'porém ', 'porém ']\n",
            "[]\n"
          ]
        }
      ]
    },
    {
      "cell_type": "code",
      "source": [
        "erro = re.compile(r\"que é\\s\\w+\\s\", re.IGNORECASE) # a autora possui um vício de linguagem (repetir sempre a expressão \"que é\", que pode ser reescrita de maneira mais concisa e natural)\n",
        "for pos, cap in enumerate(capitulos):\n",
        "  conta_erros(erro, cap, pos)"
      ],
      "metadata": {
        "colab": {
          "base_uri": "https://localhost:8080/"
        },
        "id": "U6B_a5d0T6Ls",
        "outputId": "b1a8885f-be55-4469-e81b-69d33e507bc9"
      },
      "execution_count": 16,
      "outputs": [
        {
          "output_type": "stream",
          "name": "stdout",
          "text": [
            "['que é palavra ', 'que é uma ', 'que é o ', 'que é a ', 'que é considerado ', 'que é um ', 'que é uma ', 'que é usado ', 'que é o ', 'que é o ', 'que é uma ', 'que é crucial ', 'que é a ', 'que é chamado ', 'que é considerado ', 'que é estudado ', 'que é estudada ']\n",
            "['que é estabelecido ', 'que é o ', 'que é importante ']\n"
          ]
        }
      ]
    },
    {
      "cell_type": "code",
      "source": [
        "erro = re.compile(r\"um outro\", re.IGNORECASE) # pleonasmo\n",
        "for pos, cap in enumerate(capitulos):\n",
        "  conta_erros(erro, cap, pos)"
      ],
      "metadata": {
        "id": "dXXOhaenaVdI",
        "colab": {
          "base_uri": "https://localhost:8080/"
        },
        "outputId": "090c5d51-9c96-44a1-c81f-59f7f9455ad3"
      },
      "execution_count": 17,
      "outputs": [
        {
          "output_type": "stream",
          "name": "stdout",
          "text": [
            "[]\n",
            "['um outro', 'um outro', 'um outro']\n"
          ]
        }
      ]
    },
    {
      "cell_type": "code",
      "source": [
        "erro = re.compile(r\"podem haver\", re.IGNORECASE) # pleonasmo\n",
        "for pos, cap in enumerate(capitulos):\n",
        "  conta_erros(erro, cap, pos)"
      ],
      "metadata": {
        "colab": {
          "base_uri": "https://localhost:8080/"
        },
        "id": "frdVSPr-o15T",
        "outputId": "20937d80-f799-4371-c31c-e12a53c82f97"
      },
      "execution_count": 18,
      "outputs": [
        {
          "output_type": "stream",
          "name": "stdout",
          "text": [
            "[]\n",
            "['podem haver']\n"
          ]
        }
      ]
    },
    {
      "cell_type": "code",
      "source": [
        "erro = re.compile(r'[\\s\\w]*(?<!,)por hipótese(?!,)[,\\s\\w]*', re.IGNORECASE) # a expressão \"por exemplo\" que não possui, necessariamente, vírgula antes e depois\n",
        "for pos, cap in enumerate(capitulos):\n",
        "  conta_erros(erro, cap, pos)"
      ],
      "metadata": {
        "colab": {
          "base_uri": "https://localhost:8080/"
        },
        "id": "uNT6GviNpgTn",
        "outputId": "949bf72d-535e-47ee-921a-fcad5f430e53"
      },
      "execution_count": 19,
      "outputs": [
        {
          "output_type": "stream",
          "name": "stdout",
          "text": [
            "[]\n",
            "[' por hipótese ao tema ']\n"
          ]
        }
      ]
    },
    {
      "cell_type": "code",
      "source": [
        "erro = re.compile(r\"nos âmbito\", re.IGNORECASE) # pleonasmo\n",
        "for pos, cap in enumerate(capitulos):\n",
        "  conta_erros(erro, cap, pos)"
      ],
      "metadata": {
        "colab": {
          "base_uri": "https://localhost:8080/"
        },
        "id": "ayd64YLPpxfn",
        "outputId": "ee75845f-0b3b-4e10-93e8-3ea07703f9df"
      },
      "execution_count": 20,
      "outputs": [
        {
          "output_type": "stream",
          "name": "stdout",
          "text": [
            "[]\n",
            "['nos âmbito']\n"
          ]
        }
      ]
    },
    {
      "cell_type": "code",
      "source": [
        "erro = re.compile(r\"(mas|em contrapartida|porém|entretanto|todavia){1}\\s(mas|em contrapartida|porém|entretanto|todavia){1}\", re.IGNORECASE) # pleonasmo: ex.: \"mas em contrapartida\"\n",
        "for pos, cap in enumerate(capitulos):\n",
        "  conta_erros(erro, cap, pos)"
      ],
      "metadata": {
        "colab": {
          "base_uri": "https://localhost:8080/"
        },
        "id": "h6lCCLqpp6bx",
        "outputId": "90f4220a-101c-46ec-ea71-c1170bb7210a"
      },
      "execution_count": 21,
      "outputs": [
        {
          "output_type": "stream",
          "name": "stdout",
          "text": [
            "[]\n",
            "[('mas', 'em contrapartida')]\n"
          ]
        }
      ]
    },
    {
      "cell_type": "code",
      "source": [
        "erro = re.compile(r\"(?<!, )etc\", re.IGNORECASE) # \"etc\" sempre deve ser precedido por vírgula\n",
        "for pos, cap in enumerate(capitulos):\n",
        "  conta_erros(erro, cap, pos)"
      ],
      "metadata": {
        "colab": {
          "base_uri": "https://localhost:8080/"
        },
        "id": "Xm27SJ4Cspne",
        "outputId": "03572375-6c06-46a5-f035-c6fd5dc64a9e"
      },
      "execution_count": 22,
      "outputs": [
        {
          "output_type": "stream",
          "name": "stdout",
          "text": [
            "['etc', 'etc', 'etc', 'etc', 'etc', 'etc', 'etc', 'etc', 'etc', 'etc']\n",
            "['etc', 'etc']\n"
          ]
        }
      ]
    },
    {
      "cell_type": "code",
      "source": [
        "registro_erros"
      ],
      "metadata": {
        "colab": {
          "base_uri": "https://localhost:8080/"
        },
        "id": "_wVizGEKvMJO",
        "outputId": "7fa5c847-aac6-41de-f177-9dd3997586da"
      },
      "execution_count": 23,
      "outputs": [
        {
          "output_type": "execute_result",
          "data": {
            "text/plain": [
              "{'cap4': 39, 'cap22': 13}"
            ]
          },
          "metadata": {},
          "execution_count": 23
        }
      ]
    },
    {
      "cell_type": "code",
      "source": [
        "qtd_erros_total = 0\n",
        "for k in registro_erros.keys():\n",
        "  qtd_erros_total += registro_erros[k]"
      ],
      "metadata": {
        "id": "grUMTNcfz13j"
      },
      "execution_count": 24,
      "outputs": []
    },
    {
      "cell_type": "code",
      "source": [
        "qtd_erros_total"
      ],
      "metadata": {
        "colab": {
          "base_uri": "https://localhost:8080/"
        },
        "id": "h4q_McwO0Tjt",
        "outputId": "64989d36-a77a-4e25-c549-eff3e1aaef05"
      },
      "execution_count": 25,
      "outputs": [
        {
          "output_type": "execute_result",
          "data": {
            "text/plain": [
              "52"
            ]
          },
          "metadata": {},
          "execution_count": 25
        }
      ]
    },
    {
      "cell_type": "code",
      "source": [],
      "metadata": {
        "id": "M_U6QadO0UmE"
      },
      "execution_count": null,
      "outputs": []
    }
  ]
}